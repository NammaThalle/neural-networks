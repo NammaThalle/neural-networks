{
 "cells": [
  {
   "cell_type": "markdown",
   "metadata": {},
   "source": [
    "### 1. Packages\n",
    "Import all the packages required.\n",
    "1. __numpy__ - required for scientific computing with Python.\n",
    "2. __h5py__ - to retrieve dataset stored in h5 file.\n",
    "3. __matplotlib__ - to plot graphs in Python.\n",
    "4. __scipy__ - used to test with own picture at the end"
   ]
  },
  {
   "cell_type": "code",
   "execution_count": null,
   "metadata": {},
   "outputs": [],
   "source": [
    "import numpy as np\n",
    "import h5py\n",
    "import matplotlib.pyplot as plt\n",
    "import scipy\n",
    "from scipy import ndimage"
   ]
  },
  {
   "cell_type": "markdown",
   "metadata": {},
   "source": [
    "#### Loading the dataset of cat/non-cat picture\n",
    "_Note This dataset is taken from [Kaggle][1] website_\n",
    "\n",
    "[1]: https://www.kaggle.com/baners/a-logistic-regression-classifier-to-recognize-cats/data"
   ]
  },
  {
   "cell_type": "code",
   "execution_count": null,
   "metadata": {},
   "outputs": [],
   "source": [
    "def load_dataset():\n",
    "    # load the training dataset\n",
    "    train_dataset = h5py.File('dataset/train_catvnoncat.h5', \"r\")\n",
    "    print(\"Structure of the train dataset : \"+ str(train_dataset.keys()))\n",
    "    x_train_original = np.array(train_dataset['train_set_x'])\n",
    "    y_train_original = np.array(train_dataset['train_set_y'])\n",
    "    \n",
    "    # load the testing dataset\n",
    "    test_dataset = h5py.File('dataset/test_catvnoncat.h5', \"r\")\n",
    "    print(\"Structure of the test dataset : \"+ str(test_dataset.keys()))\n",
    "    x_test_original = np.array(test_dataset['test_set_x'])\n",
    "    y_test_original = np.array(test_dataset['test_set_y'])\n",
    "\n",
    "    # load the classification classes\n",
    "    classes = np.array(test_dataset['list_classes'])\n",
    "\n",
    "    # change the shape of the labels from (m,) to (1,m)\n",
    "    y_train_original = y_train_original.reshape(1, y_train_original.shape[0])\n",
    "    y_test_original = y_test_original.reshape(1, y_test_original.shape[0])\n",
    "\n",
    "    return x_train_original, y_train_original, x_test_original, y_test_original, classes\n",
    "\n",
    "x_train_original, y_train_original, x_test_original, y_test_original, classes = load_dataset()"
   ]
  }
 ],
 "metadata": {
  "interpreter": {
   "hash": "df0893f56f349688326838aaeea0de204df53a132722cbd565e54b24a8fec5f6"
  },
  "kernelspec": {
   "display_name": "Python 3.8.0 64-bit",
   "language": "python",
   "name": "python3"
  },
  "language_info": {
   "codemirror_mode": {
    "name": "ipython",
    "version": 3
   },
   "file_extension": ".py",
   "mimetype": "text/x-python",
   "name": "python",
   "nbconvert_exporter": "python",
   "pygments_lexer": "ipython3",
   "version": "3.8.10"
  },
  "orig_nbformat": 4
 },
 "nbformat": 4,
 "nbformat_minor": 2
}
